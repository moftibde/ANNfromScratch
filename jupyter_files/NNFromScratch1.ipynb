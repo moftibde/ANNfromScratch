{
 "cells": [
  {
   "cell_type": "markdown",
   "id": "7d6db923",
   "metadata": {},
   "source": [
    " import important libraries \n"
   ]
  },
  {
   "cell_type": "code",
   "execution_count": 2,
   "id": "9f9e6e81",
   "metadata": {},
   "outputs": [],
   "source": [
    "import numpy as np \n",
    "import math"
   ]
  },
  {
   "cell_type": "markdown",
   "id": "a92c20a2",
   "metadata": {},
   "source": [
    "some important functions"
   ]
  },
  {
   "cell_type": "code",
   "execution_count": 17,
   "id": "d4eca79c",
   "metadata": {},
   "outputs": [],
   "source": [
    "# create weight and bias matrices \n",
    "def mate_me_out(input_shape, output_shape, weight_shape_m):\n",
    "    # initializing weights matrix \n",
    "    empty_w = []\n",
    "    for layer in range(weight_shape_m.shape[0]):\n",
    "        if layer == 0: \n",
    "            empty_w.append(np.random.random([input_shape[0], weight_shape_m[layer]]))\n",
    "        else:\n",
    "            empty_w.append(np.random.random([weight_shape_m[layer-1], weight_shape_m[layer]]))\n",
    "    empty_w.append(np.random.random([weight_shape_m[-1], output_shape[0]]))\n",
    "    empty_w = np.array(empty_w, dtype=object)\n",
    "\n",
    "    empty_b = [] \n",
    "    for layer in range(weight_shape_m.shape[0]): \n",
    "        empty_b.append(np.random.random([weight_shape_m[layer]])) # initializing bias matrix \n",
    "    empty_b.append(np.random.random([output_shape[0]]))\n",
    "    empty_b = np.array(empty_b, dtype=object)\n",
    "\n",
    "    print('weight matrix consists of ', empty_w.shape[0], 'layers\\n and bias matrix\\' shape is: ', empty_b.shape[0])\n",
    "\n",
    "    return empty_w, empty_b\n",
    "\n",
    "def forward_propagation(x, w, b): \n",
    "    weighted_layers = [] \n",
    "    for layer in range(len(w)):\n",
    "        print(layer)\n",
    "        if layer == 0: \n",
    "            weighted_layers.append(np.dot(x, w[layer]) + b[layer])\n",
    "        else: \n",
    "            weighted_layers.append(np.dot(weighted_layers[layer-1], w[layer]) + b[layer])\n",
    "    weighted_layers = np.array(weighted_layers, dtype=object)\n",
    " \n",
    "    return weighted_layers\n",
    "     \n",
    "\n",
    "\n",
    "    "
   ]
  },
  {
   "cell_type": "markdown",
   "id": "159739c0",
   "metadata": {},
   "source": [
    "input, output, weights and biases matrices "
   ]
  },
  {
   "cell_type": "code",
   "execution_count": null,
   "id": "00948755",
   "metadata": {},
   "outputs": [],
   "source": []
  },
  {
   "cell_type": "code",
   "execution_count": 18,
   "id": "8df36713",
   "metadata": {},
   "outputs": [
    {
     "name": "stdout",
     "output_type": "stream",
     "text": [
      "input matrix is of shape:  (3,)\n",
      "output matrix is of shape: (2,)\n",
      "weight matrix consists of  4 layers\n",
      " and bias matrix' shape is:  4\n",
      "0\n",
      "1\n",
      "2\n",
      "3\n",
      "[array([3.83364443, 2.21962428, 4.26261996, 3.94467996])\n",
      " array([ 6.17736473,  8.46811102, 11.40097981,  9.59007839,  8.12307769])\n",
      " array([23.11086407, 13.21565747, 16.47741818])\n",
      " array([28.21712462, 24.96122952])] (4,)\n"
     ]
    }
   ],
   "source": [
    "inputm = np.array([1, 3, 5])\n",
    "input_shape = inputm.shape\n",
    "print('input matrix is of shape: ', input_shape)\n",
    "outputm = np.array([3, 4])\n",
    "output_shape = outputm.shape\n",
    "print('output matrix is of shape:', output_shape)\n",
    "layers_shape = np.array([4, 5, 3]) #first, let's make it simplistic \n",
    "layers_shape_shape = layers_shape.shape\n",
    "weights_m, bias_m = mate_me_out(input_shape, output_shape, layers_shape)\n",
    "# now let us do forward propagation \n",
    "weighted_layers = forward_propagation(inputm, weights_m, bias_m)\n",
    "print(weighted_layers, weighted_layers.shape)\n",
    " \n"
   ]
  },
  {
   "cell_type": "markdown",
   "id": "2acad331",
   "metadata": {},
   "source": [
    "defining a function to create weights"
   ]
  },
  {
   "cell_type": "code",
   "execution_count": 54,
   "id": "0de27942",
   "metadata": {},
   "outputs": [],
   "source": []
  },
  {
   "cell_type": "markdown",
   "id": "3bed5c93",
   "metadata": {},
   "source": [
    "strarting the simple calculation"
   ]
  },
  {
   "cell_type": "code",
   "execution_count": null,
   "id": "a27d7b4e",
   "metadata": {},
   "outputs": [],
   "source": []
  },
  {
   "cell_type": "code",
   "execution_count": 5,
   "id": "70bbc39a",
   "metadata": {},
   "outputs": [
    {
     "name": "stdout",
     "output_type": "stream",
     "text": [
      "[[0.19364728 0.04211219 0.22314228]\n",
      " [0.67595247 0.05875658 0.51221964]\n",
      " [0.43418752 0.10842454 0.88484599]\n",
      " [0.02494606 0.73459086 0.82755451]]\n",
      "[[0.23290069 0.37405417 0.98629779 0.97468476]]\n",
      "[[1.66859595 3.78737459 6.1699889  7.34117594]]\n"
     ]
    }
   ],
   "source": [
    "weight_1 = np.random.random([input_shape[0], layers_shape[0]]).T\n",
    "bias_1 = np.random.random([layers_shape[0], 1]).T\n",
    "print(weight_1)\n",
    "print(bias_1)\n",
    "output_of_first_layer = np.sum(inputm*weight_1, axis=1)+bias_1\n",
    "print(output_of_first_layer)"
   ]
  },
  {
   "cell_type": "code",
   "execution_count": null,
   "id": "4de32ee4",
   "metadata": {},
   "outputs": [],
   "source": []
  },
  {
   "cell_type": "code",
   "execution_count": null,
   "id": "4892b7f1",
   "metadata": {},
   "outputs": [],
   "source": []
  },
  {
   "cell_type": "code",
   "execution_count": null,
   "id": "da2b1180",
   "metadata": {},
   "outputs": [],
   "source": []
  },
  {
   "cell_type": "code",
   "execution_count": null,
   "id": "41dacc47",
   "metadata": {},
   "outputs": [],
   "source": []
  },
  {
   "cell_type": "code",
   "execution_count": null,
   "id": "27eb2079",
   "metadata": {},
   "outputs": [],
   "source": []
  },
  {
   "cell_type": "code",
   "execution_count": null,
   "id": "5fdd98d2",
   "metadata": {},
   "outputs": [],
   "source": []
  }
 ],
 "metadata": {
  "kernelspec": {
   "display_name": "Python 3",
   "language": "python",
   "name": "python3"
  },
  "language_info": {
   "codemirror_mode": {
    "name": "ipython",
    "version": 3
   },
   "file_extension": ".py",
   "mimetype": "text/x-python",
   "name": "python",
   "nbconvert_exporter": "python",
   "pygments_lexer": "ipython3",
   "version": "3.10.9"
  },
  "vscode": {
   "interpreter": {
    "hash": "4bcf93f0302a76484730f896e8be3d8e946a1383fed62c2f533975e30f018082"
   }
  }
 },
 "nbformat": 4,
 "nbformat_minor": 5
}
